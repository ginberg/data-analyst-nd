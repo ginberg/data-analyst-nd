{
 "cells": [
  {
   "cell_type": "markdown",
   "metadata": {},
   "source": [
    "#Analyzing the NYC Subway Dataset\n",
    "\n",
    "##Background Information\n",
    "\n",
    "In this project, we look at the NYC Subway data and figure out if more people ride the subway when it is raining versus when it is not raining.\n",
    "The dataset that is available contains data about turnstiles at different stations as well as weather conditions.\n",
    "\n",
    "##Statistical Test\n",
    "\n",
    "###Independent, dependent variables\n",
    "\n",
    "First, let's see what kind of data is in the dataset by exploring the column names."
   ]
  },
  {
   "cell_type": "code",
   "execution_count": 2,
   "metadata": {
    "collapsed": false
   },
   "outputs": [
    {
     "name": "stdout",
     "output_type": "stream",
     "text": [
      "['UNIT', 'DATEn', 'TIMEn', 'ENTRIESn', 'EXITSn', 'ENTRIESn_hourly', 'EXITSn_hourly', 'datetime', 'hour', 'day_week', 'weekday', 'station', 'latitude', 'longitude', 'conds', 'fog', 'precipi', 'pressurei', 'rain', 'tempi', 'wspdi', 'meanprecipi', 'meanpressurei', 'meantempi', 'meanwspdi', 'weather_lat', 'weather_lon']\n"
     ]
    }
   ],
   "source": [
    "import pandas as pd\n",
    "filename='data/improved-dataset/turnstile_weather_v2.csv'\n",
    "turnstile_weather = pd.read_csv(filename)\n",
    "print list(turnstile_weather.columns.values)"
   ]
  },
  {
   "cell_type": "markdown",
   "metadata": {},
   "source": [
    "The purpose of this project is to find out if more people use the subway when it is raining. Fortunately, there is a column rain that indicates if it was raining at a certain time and location. According to the documentation it is an indicator (0 or 1). \n",
    "How to measure if the subway is used more? Well, the data contains the number of entries at some units where a unit is a data collector of multiple turnstiles. ENTRIESn is the reading of cummulative turnstile entries from the remote unit and ENTRIESn_hourly indicates the difference in ENTRIES from the previous REGULAR reading. It seems like ENTRIESn_hourly is a good measure of how many people will use the subway.\n",
    "\n",
    "Therefore, the independent variable is the rain. It can either be a 0 (no rain) or 1 (rain)\n",
    "The dependent variable is the the number of entries since the last reading (ENTRIESn_hourly)\n",
    "\n",
    "### Hypothesis and chosen test\n",
    "\n",
    "The data that is provided is a sample. With the hypothesis tests we want to explore if we can conclude that the subway is used more when it is raining. \n",
    "Let μR and μN respectively be the population means for ENTRIESn_hourly when it is not raining and when it is raining. Let H0 and Ha respectively be the 0 and alternative hypothesis. The hypotheses can be written as:\n",
    "\n",
    "H0 : μR = μN\n",
    "\n",
    "Ha : μR > μN\n",
    "\n",
    "When comparing means of populations, multiple tests can be used. A t-test or z-test can be used if the data is assumed to be normally distributed. \n",
    "However, the data from our sample is not normally distributed if we look at the plot below. Mann–Whitney´s U test is a nonparametrict test that can be used if we don't assume that the data follows a certain distribution. Because we don´ t assume any underlying distribution this test will be used. The test will be one tailed, because it is only interesting to know if **more** people use the subway when it is raining. The p critical value is 0.05, since this is quite common.\n",
    "\n",
    "![Histogram of rain vs norain values](plots/histogram_rain_norain.png)\n",
    "\n",
    "### Results from executing the test\n",
    "\n",
    "Below the results from the test can be found."
   ]
  },
  {
   "cell_type": "code",
   "execution_count": 13,
   "metadata": {
    "collapsed": false
   },
   "outputs": [
    {
     "name": "stdout",
     "output_type": "stream",
     "text": [
      "length norain df vs rain df: 33064 9585\n",
      "Norain mean + std: 1845.53943866 2878.72731433\n",
      "Rain mean + std: 2028.19603547 3189.26699226\n",
      "U-statistic: 153635120.5\n",
      "p-value: 2.74106957124e-06\n"
     ]
    }
   ],
   "source": [
    "import numpy as np\n",
    "import scipy.stats\n",
    "rain = turnstile_weather['ENTRIESn_hourly'][turnstile_weather['rain'] == 1]\n",
    "norain = turnstile_weather['ENTRIESn_hourly'][turnstile_weather['rain'] == 0]\n",
    "print \"length norain df vs rain df:\", len(norain), len(rain)\n",
    "print \"Norain mean + std:\", np.mean(norain), np.std(norain)\n",
    "print \"Rain mean + std:\", np.mean(rain), np.std(rain)\n",
    "U, p = scipy.stats.mannwhitneyu(rain, norain)\n",
    "print \"U-statistic:\", U\n",
    "print \"p-value:\", p"
   ]
  },
  {
   "cell_type": "markdown",
   "metadata": {},
   "source": [
    "The mannwhitney u test is per default one-tailed.  As can be seen, the p-value is a lot smaller than the p critical value of 0.05. Therefore it is very unlikely that the population means are equal, so the alternative hypothesis applies: more people ride the subway when it is raining.\n",
    "\n",
    "##Linear Regression\n",
    "\n",
    "Machine learning is a branch of artificial intelligence focused on constructing systems that learn from large amounts of data to make predictions.\n",
    "Linear Regression is one of the most used models in machine learning.\n",
    "\n",
    "### Regression model\n",
    "To create a lineair regression model I will use the Ordinary Least Squares (OLS) from Statsmodels. \n",
    "\n",
    "### Features \n",
    "\n",
    "I have used the following features in the regression model\n",
    "\n",
    "* rain: because in the statistical test, it is clear that rain matters.\n",
    "* hour: because there are probably more people taking the subway in peak hours.\n",
    "* meantempi: because there are probably less travelers when it is very cold or hot.\n",
    "* weekday: because I think some days are more populair to work than others.\n",
    "* UNIT (dummy variable): because when I used this, it drastically improved my R2 value.\n",
    "\n",
    "### Parameters of non-dummy features and R-squared\n",
    "\n",
    "below the parameters of the non-dummy features and R-squared are shown"
   ]
  },
  {
   "cell_type": "code",
   "execution_count": 11,
   "metadata": {
    "collapsed": false
   },
   "outputs": [
    {
     "name": "stdout",
     "output_type": "stream",
     "text": [
      "param-rain -38.034135646\n",
      "param-hour 123.403811602\n",
      "param-meantempi -13.8580644847\n",
      "param-weekday 982.860016244\n",
      "r-squared: 0.482340215273\n"
     ]
    }
   ],
   "source": [
    "import matplotlib.pyplot as plt\n",
    "import statsmodels.api as sm\n",
    "\n",
    "def linear_regression(features, values):\n",
    "    \"\"\"\n",
    "    Perform linear regression given a data set with an arbitrary number of features. \n",
    "    This can be the same code as in the lesson #3 exercise.\n",
    "    \"\"\" \n",
    "    features = sm.add_constant(features)\n",
    "    model = sm.OLS(values, features)\n",
    "    results = model.fit()\n",
    "    intercept = results.params[0]\n",
    "    params = results.params[1:]    \n",
    "    return intercept, params\n",
    "    \n",
    "\n",
    "def compute_r_squared(data, predictions):\n",
    "    '''\n",
    "    Calculates R sqared based on given data and predictions\n",
    "    '''\n",
    "    SST = ((data - np.mean(data)) **2).sum()\n",
    "    SSREG = ((predictions - data) **2).sum()\n",
    "    r_squared = 1 - SSREG / SST\n",
    "    \n",
    "    return r_squared\n",
    "\n",
    "filename='data/improved-dataset/turnstile_weather_v2.csv'\n",
    "turnstile_weather = pd.read_csv(filename)\n",
    "features = turnstile_weather[['rain', 'hour', 'meantempi', 'weekday']]\n",
    "dummy_units = pd.get_dummies(turnstile_weather['UNIT'], prefix='unit')\n",
    "features = features.join(dummy_units)\n",
    "values = turnstile_weather['ENTRIESn_hourly']\n",
    "intercept, params = linear_regression(features, values)\n",
    "predictions = intercept + np.dot(features, params)\n",
    "print \"param-rain\", params['rain']\n",
    "print \"param-hour\", params['hour']\n",
    "print \"param-meantempi\", params['meantempi']\n",
    "print \"param-weekday\", params['weekday']\n",
    "print \"r-squared:\", compute_r_squared(values, predictions)"
   ]
  },
  {
   "cell_type": "markdown",
   "metadata": {},
   "source": [
    "The R2 value is about 0.48, so what does this mean? R2 is a measure of how well the data fits the regression model. The value of R2 is 1 for a perfect fit and 0 when there is no fit, so in this case the fit is reasonable.\n",
    "\n",
    "##Visualization\n",
    "\n",
    "Below a visualization can be found about the ridership by time of day. On the x-axis the hour is give and on the y-axis the number of entries.\n",
    "\n",
    "![Histogram of rain vs norain values](plots/number_of_entries_per_hour.png)\n"
   ]
  },
  {
   "cell_type": "markdown",
   "metadata": {},
   "source": [
    "## Conclusion\n",
    "\n",
    "#### Do more people ride the NYC subway when it is raining or when it is not raining?\n",
    "\n",
    "From the results obtained from the statistical test and lineair regression, we can say in general that more people ride the NYC subway when it is raining. However, rain is not a very good predictor.\n",
    "\n",
    "In the statistical test, the conclusion is that our sample supports the alternative hypothesis, the population mean for rain is greater that for non rain.\n",
    "\n",
    "In our lineair regression model, the influence of the rain on the ouput is negative. I have also tried to leave out the feature rain and it almost didn't change the R2 value. The purpose of the regression model is to be able to predict the outcome based on certain features. However, these features influence each other. If one is left out, it will change the param values of the other features. The dummy variable UNIT has a big influence on R2. This leads to the conclusion that UNIT is a good predictor, but rain isn't.\n",
    "\n",
    "\n",
    "## Reflection\n",
    "\n",
    "#### Shortcomings\n",
    "\n",
    "There are some shortcomings in my analysis.\n",
    "* dataset: the dataset contains a lot more rows for non-rain than for rain. It would be ideal to have equal number of rows for both cases.\n",
    "* regression model: the chosen regression model OLS (ordinary least squares) is quite simplistic and has some drawbacks. It is sensitive for outliers and as seen in the figure of entries per hour, there are some outliers. Next to this, OLS performs bad when features are put into the model, that have a dependence between them. \n",
    "\n"
   ]
  }
 ],
 "metadata": {
  "kernelspec": {
   "display_name": "Python 2",
   "language": "python",
   "name": "python2"
  },
  "language_info": {
   "codemirror_mode": {
    "name": "ipython",
    "version": 2
   },
   "file_extension": ".py",
   "mimetype": "text/x-python",
   "name": "python",
   "nbconvert_exporter": "python",
   "pygments_lexer": "ipython2",
   "version": "2.7.10"
  }
 },
 "nbformat": 4,
 "nbformat_minor": 0
}
