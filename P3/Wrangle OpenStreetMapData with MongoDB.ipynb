{
 "cells": [
  {
   "cell_type": "markdown",
   "metadata": {},
   "source": [
    "### Problems Encountered in the Map\n",
    "\n",
    "                                                \n",
    "After downloading the Utrecht map from mapzen.com, I have created a sample from it. First, I have run my audit script against the sample to inspect the data. I have some minor issues that I will discuss below, but overall the dataset is pretty clean already.\n",
    "\n",
    "* Abbreviated street names. There are abbreviations in the last part of a streetname, for example \"W.Z.\". In other cases it is written fully like \"Westzijde\". This is also the case for \"O.Z.\" and \"Oostzijde\". I have decided to transform the abbreviations to its full name.\n",
    "\n",
    "* “Incorrect” postal codes. Utrecht area zip codes all begin with “35” however a large portion of all zip codes were outside this region. It appears that small villages close to Utrecht are also in this dataset. I have done some analysis of this below with pymongo."
   ]
  },
  {
   "cell_type": "code",
   "execution_count": 3,
   "metadata": {
    "collapsed": false
   },
   "outputs": [
    {
     "name": "stdout",
     "output_type": "stream",
     "text": [
      "{u'count': 1016, u'_id': u'3706AA'}\n",
      "{u'count': 701, u'_id': u'3621VC'}\n",
      "{u'count': 588, u'_id': u'3513EW'}\n"
     ]
    }
   ],
   "source": [
    "from pymongo import MongoClient\n",
    "client = MongoClient(\"mongodb://localhost:27017\")\n",
    "db = client.test\n",
    "top_pc = db.utrecht.aggregate([\n",
    "        {\"$match\":{\"address.postcode\":{\"$exists\":1}}}, \n",
    "        {\"$group\":{\"_id\":\"$address.postcode\", \"count\":{\"$sum\":1}}}, \n",
    "        {\"$sort\":{\"count\":-1}},\n",
    "        {\"$limit\":3 }])\n",
    "for pc in top_pc:\n",
    "    print pc"
   ]
  },
  {
   "cell_type": "code",
   "execution_count": 4,
   "metadata": {
    "collapsed": false
   },
   "outputs": [
    {
     "name": "stdout",
     "output_type": "stream",
     "text": [
      "{u'count': 289772, u'_id': u'Utrecht'}\n",
      "{u'count': 61854, u'_id': u'Nieuwegein'}\n",
      "{u'count': 52800, u'_id': u'Zeist'}\n"
     ]
    }
   ],
   "source": [
    "top_cities = db.utrecht.aggregate([\n",
    "        {\"$match\":{\"address.city\":{\"$exists\":1}}}, \n",
    "        {\"$group\":{\"_id\":\"$address.city\", \"count\":{\"$sum\":1}}}, \n",
    "        {\"$sort\":{\"count\":-1}},\n",
    "        {\"$limit\":3 }])\n",
    "for city in top_cities:\n",
    "    print city"
   ]
  },
  {
   "cell_type": "markdown",
   "metadata": {},
   "source": [
    "It turns out that most addresses are located in the city Utrecht, but a substantial part belongs to other surrounding villages. At first sight it is strange that the top 2 postal codes are not from the city of Utrecht (because they don't start with 35), but this could be because there are more houses for some postal codes for example.\n",
    "\n",
    "### Overview of the Data\n",
    "\n",
    "Number of objects"
   ]
  },
  {
   "cell_type": "code",
   "execution_count": 14,
   "metadata": {
    "collapsed": false
   },
   "outputs": [
    {
     "data": {
      "text/plain": [
       "7120051"
      ]
     },
     "execution_count": 14,
     "metadata": {},
     "output_type": "execute_result"
    }
   ],
   "source": [
    "db.utrecht.find().count()"
   ]
  },
  {
   "cell_type": "markdown",
   "metadata": {},
   "source": [
    "Number of nodes"
   ]
  },
  {
   "cell_type": "code",
   "execution_count": 15,
   "metadata": {
    "collapsed": false
   },
   "outputs": [
    {
     "data": {
      "text/plain": [
       "6193678"
      ]
     },
     "execution_count": 15,
     "metadata": {},
     "output_type": "execute_result"
    }
   ],
   "source": [
    "db.utrecht.find({\"type\":\"node\"}).count()"
   ]
  },
  {
   "cell_type": "code",
   "execution_count": null,
   "metadata": {
    "collapsed": true
   },
   "outputs": [],
   "source": [
    "Number of ways"
   ]
  },
  {
   "cell_type": "code",
   "execution_count": 16,
   "metadata": {
    "collapsed": false
   },
   "outputs": [
    {
     "data": {
      "text/plain": [
       "926373"
      ]
     },
     "execution_count": 16,
     "metadata": {},
     "output_type": "execute_result"
    }
   ],
   "source": [
    "db.utrecht.find({\"type\":\"way\"}).count()"
   ]
  },
  {
   "cell_type": "markdown",
   "metadata": {},
   "source": [
    "Unique users"
   ]
  },
  {
   "cell_type": "code",
   "execution_count": 17,
   "metadata": {
    "collapsed": false
   },
   "outputs": [
    {
     "data": {
      "text/plain": [
       "838"
      ]
     },
     "execution_count": 17,
     "metadata": {},
     "output_type": "execute_result"
    }
   ],
   "source": [
    "len(db.utrecht.distinct(\"created.user\")) "
   ]
  },
  {
   "cell_type": "markdown",
   "metadata": {},
   "source": [
    "Top users"
   ]
  },
  {
   "cell_type": "code",
   "execution_count": 18,
   "metadata": {
    "collapsed": false
   },
   "outputs": [
    {
     "name": "stdout",
     "output_type": "stream",
     "text": [
      "{u'count': 1440411, u'_id': u'Gertjan Idema_BAG'}\n",
      "{u'count': 939629, u'_id': u'PeeWee32_BAG'}\n",
      "{u'count': 932991, u'_id': u'3dShapes'}\n"
     ]
    }
   ],
   "source": [
    "top_users = db.utrecht.aggregate([\n",
    "        {\"$match\":{\"created.user\":{\"$exists\":1}}}, \n",
    "        {\"$group\":{\"_id\":\"$created.user\", \"count\":{\"$sum\":1}}}, \n",
    "        {\"$sort\":{\"count\":-1}},\n",
    "        {\"$limit\":3 }])\n",
    "for user in top_users:\n",
    "    print user"
   ]
  },
  {
   "cell_type": "markdown",
   "metadata": {
    "collapsed": true
   },
   "source": [
    "Top amenities"
   ]
  },
  {
   "cell_type": "code",
   "execution_count": 19,
   "metadata": {
    "collapsed": false
   },
   "outputs": [
    {
     "name": "stdout",
     "output_type": "stream",
     "text": [
      "{u'count': 2702, u'_id': u'parking'}\n",
      "{u'count': 1896, u'_id': u'bench'}\n",
      "{u'count': 806, u'_id': u'restaurant'}\n"
     ]
    }
   ],
   "source": [
    "top_amenities = db.utrecht.aggregate([\n",
    "        {\"$match\":{\"amenity\":{\"$exists\":1}}}, \n",
    "        {\"$group\":{\"_id\":\"$amenity\", \"count\":{\"$sum\":1}}}, \n",
    "        {\"$sort\":{\"count\":-1}},\n",
    "        {\"$limit\":3 }])\n",
    "for amenity in top_amenities:\n",
    "    print amenity"
   ]
  },
  {
   "cell_type": "markdown",
   "metadata": {
    "collapsed": true
   },
   "source": [
    "### Other ideas about the datasets\n",
    "\n",
    "I am interested in the top 10 cuisines in Utrecht. The dataset provides a tag type \"cuisine\" that can be used\n",
    "for that purpose. After retrieving the information from Mongo, it is plotted with pyplot."
   ]
  },
  {
   "cell_type": "code",
   "execution_count": 20,
   "metadata": {
    "collapsed": false
   },
   "outputs": [
    {
     "name": "stdout",
     "output_type": "stream",
     "text": [
      "{u'count': 29, u'_id': u'chinese'}\n",
      "{u'count': 28, u'_id': u'burger'}\n",
      "{u'count': 26, u'_id': u'italian'}\n",
      "{u'count': 25, u'_id': u'pizza'}\n",
      "{u'count': 20, u'_id': u'regional'}\n",
      "{u'count': 18, u'_id': u'kebab'}\n",
      "{u'count': 17, u'_id': u'greek'}\n",
      "{u'count': 14, u'_id': u'sandwich'}\n",
      "{u'count': 12, u'_id': u'asian'}\n",
      "{u'count': 12, u'_id': u'japanese'}\n"
     ]
    }
   ],
   "source": [
    "top_cuisine = db.utrecht.aggregate([{\"$match\":{\"cuisine\":{\"$exists\":1}}}, {\"$group\":{\"_id\":\"$cuisine\",\n",
    "                           \"count\":{\"$sum\":1}}}, {\"$sort\":{\"count\":-1}}, {\"$limit\":10}])\n",
    "for cuisine in top_cuisine:\n",
    "    print cuisine"
   ]
  },
  {
   "cell_type": "markdown",
   "metadata": {
    "collapsed": true
   },
   "source": [
    "![Top 10 cuisines in Utrecht](plots/utrecht_top_10_cuisines.jpg)"
   ]
  }
 ],
 "metadata": {
  "kernelspec": {
   "display_name": "Python 2",
   "language": "python",
   "name": "python2"
  },
  "language_info": {
   "codemirror_mode": {
    "name": "ipython",
    "version": 2
   },
   "file_extension": ".py",
   "mimetype": "text/x-python",
   "name": "python",
   "nbconvert_exporter": "python",
   "pygments_lexer": "ipython2",
   "version": "2.7.10"
  }
 },
 "nbformat": 4,
 "nbformat_minor": 0
}
