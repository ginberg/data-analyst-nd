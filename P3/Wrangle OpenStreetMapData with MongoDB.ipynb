{
 "cells": [
  {
   "cell_type": "markdown",
   "metadata": {},
   "source": [
    "1. Problems Encountered in the Map\n",
    "\n",
    "                                                \n",
    "\n",
    "After initially downloading a small sample size of the Utrecht area and running it against a provisional data.py file, I noticed three main problems with the data, which I will discuss in the following order:\n",
    "\n",
    "* “Incorrect” postal codes. Utrecht area zip codes all begin with “35” however a large portion of all documented zip codes were outside this region. "
   ]
  },
  {
   "cell_type": "code",
   "execution_count": 16,
   "metadata": {
    "collapsed": false
   },
   "outputs": [
    {
     "name": "stdout",
     "output_type": "stream",
     "text": [
      "{u'count': 508, u'_id': u'3706AA'}\n",
      "{u'count': 352, u'_id': u'3621VC'}\n",
      "{u'count': 294, u'_id': u'3513EW'}\n"
     ]
    }
   ],
   "source": [
    "from pymongo import MongoClient\n",
    "client = MongoClient(\"mongodb://localhost:27017\")\n",
    "db = client.test\n",
    "top_pc = db.utrecht.aggregate([\n",
    "        {\"$match\":{\"address.postcode\":{\"$exists\":1}}}, \n",
    "        {\"$group\":{\"_id\":\"$address.postcode\", \"count\":{\"$sum\":1}}}, \n",
    "        {\"$sort\":{\"count\":-1}},\n",
    "        {\"$limit\":3 }])\n",
    "for pc in top_pc:\n",
    "    print pc"
   ]
  },
  {
   "cell_type": "code",
   "execution_count": 17,
   "metadata": {
    "collapsed": false
   },
   "outputs": [
    {
     "name": "stdout",
     "output_type": "stream",
     "text": [
      "{u'count': 144886, u'_id': u'Utrecht'}\n",
      "{u'count': 30927, u'_id': u'Nieuwegein'}\n",
      "{u'count': 26400, u'_id': u'Zeist'}\n"
     ]
    }
   ],
   "source": [
    "top_cities = db.utrecht.aggregate([\n",
    "        {\"$match\":{\"address.city\":{\"$exists\":1}}}, \n",
    "        {\"$group\":{\"_id\":\"$address.city\", \"count\":{\"$sum\":1}}}, \n",
    "        {\"$sort\":{\"count\":-1}},\n",
    "        {\"$limit\":3 }])\n",
    "for city in top_cities:\n",
    "    print city"
   ]
  },
  {
   "cell_type": "code",
   "execution_count": 16,
   "metadata": {
    "collapsed": false
   },
   "outputs": [
    {
     "data": {
      "text/plain": [
       "464132"
      ]
     },
     "execution_count": 16,
     "metadata": {},
     "output_type": "execute_result"
    }
   ],
   "source": []
  },
  {
   "cell_type": "markdown",
   "metadata": {},
   "source": [
    "2. Overview of the Data\n",
    "\n",
    "Number of nodes"
   ]
  },
  {
   "cell_type": "code",
   "execution_count": 18,
   "metadata": {
    "collapsed": false
   },
   "outputs": [
    {
     "data": {
      "text/plain": [
       "3582231"
      ]
     },
     "execution_count": 18,
     "metadata": {},
     "output_type": "execute_result"
    }
   ],
   "source": [
    "db.utrecht.find().count()"
   ]
  },
  {
   "cell_type": "markdown",
   "metadata": {},
   "source": [
    "Number of nodes"
   ]
  },
  {
   "cell_type": "code",
   "execution_count": 19,
   "metadata": {
    "collapsed": false
   },
   "outputs": [
    {
     "data": {
      "text/plain": [
       "3118099"
      ]
     },
     "execution_count": 19,
     "metadata": {},
     "output_type": "execute_result"
    }
   ],
   "source": [
    "db.utrecht.find({\"type\":\"node\"}).count()"
   ]
  },
  {
   "cell_type": "code",
   "execution_count": null,
   "metadata": {
    "collapsed": true
   },
   "outputs": [],
   "source": [
    "Number of ways"
   ]
  },
  {
   "cell_type": "code",
   "execution_count": 20,
   "metadata": {
    "collapsed": false
   },
   "outputs": [
    {
     "data": {
      "text/plain": [
       "464132"
      ]
     },
     "execution_count": 20,
     "metadata": {},
     "output_type": "execute_result"
    }
   ],
   "source": [
    "db.utrecht.find({\"type\":\"way\"}).count()"
   ]
  },
  {
   "cell_type": "markdown",
   "metadata": {},
   "source": [
    "Unique users"
   ]
  },
  {
   "cell_type": "code",
   "execution_count": 21,
   "metadata": {
    "collapsed": false
   },
   "outputs": [
    {
     "data": {
      "text/plain": [
       "833"
      ]
     },
     "execution_count": 21,
     "metadata": {},
     "output_type": "execute_result"
    }
   ],
   "source": [
    "len(db.utrecht.distinct(\"created.user\")) "
   ]
  },
  {
   "cell_type": "markdown",
   "metadata": {},
   "source": [
    "Top users"
   ]
  },
  {
   "cell_type": "code",
   "execution_count": 22,
   "metadata": {
    "collapsed": false
   },
   "outputs": [
    {
     "name": "stdout",
     "output_type": "stream",
     "text": [
      "{u'count': 720208, u'_id': u'Gertjan Idema_BAG'}\n",
      "{u'count': 475096, u'_id': u'3dShapes'}\n",
      "{u'count': 474095, u'_id': u'PeeWee32_BAG'}\n"
     ]
    }
   ],
   "source": [
    "top_users = db.utrecht.aggregate([\n",
    "        {\"$match\":{\"created.user\":{\"$exists\":1}}}, \n",
    "        {\"$group\":{\"_id\":\"$created.user\", \"count\":{\"$sum\":1}}}, \n",
    "        {\"$sort\":{\"count\":-1}},\n",
    "        {\"$limit\":3 }])\n",
    "for user in top_users:\n",
    "    print user"
   ]
  },
  {
   "cell_type": "markdown",
   "metadata": {
    "collapsed": true
   },
   "source": [
    "Top amenities"
   ]
  },
  {
   "cell_type": "code",
   "execution_count": 23,
   "metadata": {
    "collapsed": false
   },
   "outputs": [
    {
     "name": "stdout",
     "output_type": "stream",
     "text": [
      "{u'count': 1353, u'_id': u'parking'}\n",
      "{u'count': 949, u'_id': u'bench'}\n",
      "{u'count': 403, u'_id': u'restaurant'}\n"
     ]
    }
   ],
   "source": [
    "top_amenities = db.utrecht.aggregate([\n",
    "        {\"$match\":{\"amenity\":{\"$exists\":1}}}, \n",
    "        {\"$group\":{\"_id\":\"$amenity\", \"count\":{\"$sum\":1}}}, \n",
    "        {\"$sort\":{\"count\":-1}},\n",
    "        {\"$limit\":3 }])\n",
    "for amenity in top_amenities:\n",
    "    print amenity"
   ]
  },
  {
   "cell_type": "code",
   "execution_count": null,
   "metadata": {
    "collapsed": true
   },
   "outputs": [],
   "source": [
    "3. Other ideas about the datasets"
   ]
  },
  {
   "cell_type": "code",
   "execution_count": 25,
   "metadata": {
    "collapsed": false
   },
   "outputs": [
    {
     "data": {
      "text/plain": [
       "<pymongo.command_cursor.CommandCursor at 0x7f673c882f90>"
      ]
     },
     "execution_count": 25,
     "metadata": {},
     "output_type": "execute_result"
    }
   ],
   "source": [
    "db.utrecht.aggregate([{\"$match\":{\"amenity\":{\"$exists\":1}}}, {\"$group\":{\"_id\":\"$amenity\",\n",
    "\"count\":{\"$sum\":1}}}, {\"$sort\":{\"count\":-1}}, {\"$limit\":10}])"
   ]
  },
  {
   "cell_type": "code",
   "execution_count": null,
   "metadata": {
    "collapsed": true
   },
   "outputs": [],
   "source": []
  }
 ],
 "metadata": {
  "kernelspec": {
   "display_name": "Python 2",
   "language": "python",
   "name": "python2"
  },
  "language_info": {
   "codemirror_mode": {
    "name": "ipython",
    "version": 2
   },
   "file_extension": ".py",
   "mimetype": "text/x-python",
   "name": "python",
   "nbconvert_exporter": "python",
   "pygments_lexer": "ipython2",
   "version": "2.7.10"
  }
 },
 "nbformat": 4,
 "nbformat_minor": 0
}
